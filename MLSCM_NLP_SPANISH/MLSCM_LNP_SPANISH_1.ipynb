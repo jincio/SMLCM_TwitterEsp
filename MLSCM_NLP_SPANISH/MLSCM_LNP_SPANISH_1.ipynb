{
 "cells": [
  {
   "cell_type": "markdown",
   "id": "ee33421c",
   "metadata": {},
   "source": [
    "## Selecting the best SMLCM\n",
    "\n",
    "I ran the models from the script 'SMLCM_functions.ipynb' using the training and testing data. "
   ]
  },
  {
   "cell_type": "code",
   "execution_count": 1,
   "id": "6f415356",
   "metadata": {},
   "outputs": [],
   "source": [
    "import joblib\n",
    "import pandas as pd\n",
    "import numpy as np"
   ]
  },
  {
   "cell_type": "markdown",
   "id": "ecd2b637",
   "metadata": {},
   "source": [
    "### Calling functions from SMLCM_functions.ipynb"
   ]
  },
  {
   "cell_type": "code",
   "execution_count": 2,
   "id": "8c74fe49",
   "metadata": {},
   "outputs": [],
   "source": [
    "%run ./SMLCM_functions.ipynb"
   ]
  },
  {
   "cell_type": "markdown",
   "id": "75651047",
   "metadata": {},
   "source": [
    "### Loading the training and testing data sets"
   ]
  },
  {
   "cell_type": "code",
   "execution_count": 6,
   "id": "42891ce3",
   "metadata": {},
   "outputs": [],
   "source": [
    "# Loading data from excel sheets\n",
    "training=pd.read_excel(\"B_OutputData/trainingTASS_data.xlsx\")\n",
    "testing=pd.read_excel(\"B_OutputData/testingTASS_data.xlsx\")\n",
    "\n",
    "# Clean the dependent variable tweet fro training and test data\n",
    "training[\"tweet\"]=training[\"tweet\"].apply(preprocessor)\n",
    "training[\"tweet\"]=training[\"tweet\"].apply(tildes)\n",
    "##\n",
    "testing[\"tweet\"]=testing[\"tweet\"].apply(preprocessor)\n",
    "testing[\"tweet\"]=testing[\"tweet\"].apply(tildes)\n",
    "\n",
    "testing[\"tweet\"]\n",
    "\n",
    "## Takes the data\n",
    "y_train=training[\"sentiment\"]\n",
    "x_train=training[\"tweet\"]\n",
    "y_test=testing[\"sentiment\"]\n",
    "x_test=testing[\"tweet\"]"
   ]
  },
  {
   "cell_type": "markdown",
   "id": "ef3ac596",
   "metadata": {},
   "source": [
    "### Runing the Classification Models "
   ]
  },
  {
   "cell_type": "code",
   "execution_count": 9,
   "id": "b0a01b08",
   "metadata": {},
   "outputs": [
    {
     "name": "stdout",
     "output_type": "stream",
     "text": [
      "Fitting 3 folds for each of 24 candidates, totalling 72 fits\n",
      "[[466  63 169]\n",
      " [466  89 386]\n",
      " [275  58 306]]\n",
      "Fitting 3 folds for each of 288 candidates, totalling 864 fits\n",
      "[[523   7 168]\n",
      " [559   9 373]\n",
      " [304   5 330]]\n",
      "Fitting 3 folds for each of 576 candidates, totalling 1728 fits\n",
      "[[402   1 295]\n",
      " [402   0 539]\n",
      " [207   0 432]]\n",
      "Fitting 3 folds for each of 192 candidates, totalling 576 fits\n",
      "[[466  15 217]\n",
      " [485  32 424]\n",
      " [244  20 375]]\n",
      "Fitting 3 folds for each of 288 candidates, totalling 864 fits\n",
      "[[490  20 188]\n",
      " [502  34 405]\n",
      " [253  25 361]]\n"
     ]
    }
   ],
   "source": [
    "estimation( x_train , y_train , x_test , y_test , \"TASS\" )\n",
    "scores1 = scores.copy(deep=True)"
   ]
  },
  {
   "cell_type": "markdown",
   "id": "4568949a",
   "metadata": {},
   "source": [
    "### Saving the models"
   ]
  },
  {
   "cell_type": "code",
   "execution_count": 10,
   "id": "60c328e1",
   "metadata": {},
   "outputs": [],
   "source": [
    "models=[nby1,svc,rf1,KKN,Lsvc]\n",
    "model_names=[\"NaiveBayes\",\"SVC\",\"RandomF\",\"KNeigbhbor\",\"Linear_SVC\"]\n",
    "for model, name in zip(models, model_names):\n",
    "    joblib.dump(model, f'C_OutputModels/{name}.sav')"
   ]
  },
  {
   "cell_type": "code",
   "execution_count": null,
   "id": "c5749951",
   "metadata": {},
   "outputs": [],
   "source": []
  }
 ],
 "metadata": {
  "kernelspec": {
   "display_name": "Python 3",
   "language": "python",
   "name": "python3"
  },
  "language_info": {
   "codemirror_mode": {
    "name": "ipython",
    "version": 3
   },
   "file_extension": ".py",
   "mimetype": "text/x-python",
   "name": "python",
   "nbconvert_exporter": "python",
   "pygments_lexer": "ipython3",
   "version": "3.7.6"
  }
 },
 "nbformat": 4,
 "nbformat_minor": 5
}
